{
 "cells": [
  {
   "cell_type": "code",
   "execution_count": 24,
   "metadata": {
    "collapsed": true
   },
   "outputs": [],
   "source": [
    "%matplotlib inline\n",
    "import matplotlib\n",
    "import matplotlib.pyplot as plt\n",
    "import matplotlib.cm as cm\n",
    "import numpy as np\n",
    "import sklearn.preprocessing as preprocessing\n",
    "from sklearn.svm import SVR\n",
    "from sklearn.preprocessing import normalize\n",
    "from datetime import datetime\n",
    "from sklearn.model_selection import cross_val_score"
   ]
  },
  {
   "cell_type": "code",
   "execution_count": 54,
   "metadata": {
    "collapsed": true
   },
   "outputs": [],
   "source": [
    "%run GasLearningHelper.py \n",
    "%run ElasticSearchHelper.py\n",
    "%run commonHelper.py\n",
    "gasHelper = GasLearningHelper()\n",
    "esHelper = ElasticSearchHelper()\n",
    "cHelper = CommonHelper()"
   ]
  },
  {
   "cell_type": "code",
   "execution_count": 10,
   "metadata": {
    "collapsed": true
   },
   "outputs": [],
   "source": [
    "gasData = gasHelper.ReadGasData('C:/Users/star/Documents/Domo/2018-01-06-ecas-export.db', '2017-12-01')\n",
    "gasDataDelta = gasHelper.CreateDelta(gasData)\n",
    "rangeQueryPart = esHelper.GetRange(gasDataDelta)\n",
    "rangeQuery = cHelper.ReadJson('rangeQueryTemplate.json')\n",
    "\n",
    "#es = Elasticsearch([{'host': 'search-es-domain-.us-east-2.es.amazonaws.com', 'port': 80}])\n",
    "#result = es.search(index=\"history-*\", body=rangeQuery)\n",
    "\n",
    "rangeQuery['aggs']['2']['aggs']['3']['date_range']['ranges'] = rangeQueryPart\n",
    "# display(rangeQuery['aggs']['2']['aggs']['3']['date_range']['ranges'])\n",
    "#display(rangeQuery)"
   ]
  },
  {
   "cell_type": "code",
   "execution_count": 408,
   "metadata": {},
   "outputs": [
    {
     "name": "stderr",
     "output_type": "stream",
     "text": [
      "GET http://search-es-domain-.us-east-2.es.amazonaws.com:80/history-*/_search [status:N/A request:0.152s]\n",
      "Traceback (most recent call last):\n",
      "  File \"D:\\Progs\\Anaconda\\lib\\site-packages\\urllib3\\connectionpool.py\", line 601, in urlopen\n",
      "    chunked=chunked)\n",
      "  File \"D:\\Progs\\Anaconda\\lib\\site-packages\\urllib3\\connectionpool.py\", line 387, in _make_request\n",
      "    six.raise_from(e, None)\n",
      "  File \"<string>\", line 2, in raise_from\n",
      "  File \"D:\\Progs\\Anaconda\\lib\\site-packages\\urllib3\\connectionpool.py\", line 383, in _make_request\n",
      "    httplib_response = conn.getresponse()\n",
      "  File \"D:\\Progs\\Anaconda\\lib\\http\\client.py\", line 1331, in getresponse\n",
      "    response.begin()\n",
      "  File \"D:\\Progs\\Anaconda\\lib\\http\\client.py\", line 297, in begin\n",
      "    version, status, reason = self._read_status()\n",
      "  File \"D:\\Progs\\Anaconda\\lib\\http\\client.py\", line 258, in _read_status\n",
      "    line = str(self.fp.readline(_MAXLINE + 1), \"iso-8859-1\")\n",
      "  File \"D:\\Progs\\Anaconda\\lib\\socket.py\", line 586, in readinto\n",
      "    return self._sock.recv_into(b)\n",
      "ConnectionResetError: [WinError 10054] Une connexion existante a dû être fermée par l’hôte distant\n",
      "\n",
      "During handling of the above exception, another exception occurred:\n",
      "\n",
      "Traceback (most recent call last):\n",
      "  File \"D:\\Progs\\Anaconda\\lib\\site-packages\\elasticsearch\\connection\\http_urllib3.py\", line 147, in perform_request\n",
      "    response = self.pool.urlopen(method, url, body, retries=False, headers=self.headers, **kw)\n",
      "  File \"D:\\Progs\\Anaconda\\lib\\site-packages\\urllib3\\connectionpool.py\", line 639, in urlopen\n",
      "    _stacktrace=sys.exc_info()[2])\n",
      "  File \"D:\\Progs\\Anaconda\\lib\\site-packages\\urllib3\\util\\retry.py\", line 333, in increment\n",
      "    raise six.reraise(type(error), error, _stacktrace)\n",
      "  File \"D:\\Progs\\Anaconda\\lib\\site-packages\\urllib3\\packages\\six.py\", line 685, in reraise\n",
      "    raise value.with_traceback(tb)\n",
      "  File \"D:\\Progs\\Anaconda\\lib\\site-packages\\urllib3\\connectionpool.py\", line 601, in urlopen\n",
      "    chunked=chunked)\n",
      "  File \"D:\\Progs\\Anaconda\\lib\\site-packages\\urllib3\\connectionpool.py\", line 387, in _make_request\n",
      "    six.raise_from(e, None)\n",
      "  File \"<string>\", line 2, in raise_from\n",
      "  File \"D:\\Progs\\Anaconda\\lib\\site-packages\\urllib3\\connectionpool.py\", line 383, in _make_request\n",
      "    httplib_response = conn.getresponse()\n",
      "  File \"D:\\Progs\\Anaconda\\lib\\http\\client.py\", line 1331, in getresponse\n",
      "    response.begin()\n",
      "  File \"D:\\Progs\\Anaconda\\lib\\http\\client.py\", line 297, in begin\n",
      "    version, status, reason = self._read_status()\n",
      "  File \"D:\\Progs\\Anaconda\\lib\\http\\client.py\", line 258, in _read_status\n",
      "    line = str(self.fp.readline(_MAXLINE + 1), \"iso-8859-1\")\n",
      "  File \"D:\\Progs\\Anaconda\\lib\\socket.py\", line 586, in readinto\n",
      "    return self._sock.recv_into(b)\n",
      "urllib3.exceptions.ProtocolError: ('Connection aborted.', ConnectionResetError(10054, 'Une connexion existante a dû être fermée par l’hôte distant', None, 10054, None))\n",
      "GET http://search-es-domain-.us-east-2.es.amazonaws.com:80/history-*/_search [status:N/A request:0.104s]\n",
      "Traceback (most recent call last):\n",
      "  File \"D:\\Progs\\Anaconda\\lib\\site-packages\\urllib3\\connectionpool.py\", line 601, in urlopen\n",
      "    chunked=chunked)\n",
      "  File \"D:\\Progs\\Anaconda\\lib\\site-packages\\urllib3\\connectionpool.py\", line 387, in _make_request\n",
      "    six.raise_from(e, None)\n",
      "  File \"<string>\", line 2, in raise_from\n",
      "  File \"D:\\Progs\\Anaconda\\lib\\site-packages\\urllib3\\connectionpool.py\", line 383, in _make_request\n",
      "    httplib_response = conn.getresponse()\n",
      "  File \"D:\\Progs\\Anaconda\\lib\\http\\client.py\", line 1331, in getresponse\n",
      "    response.begin()\n",
      "  File \"D:\\Progs\\Anaconda\\lib\\http\\client.py\", line 297, in begin\n",
      "    version, status, reason = self._read_status()\n",
      "  File \"D:\\Progs\\Anaconda\\lib\\http\\client.py\", line 258, in _read_status\n",
      "    line = str(self.fp.readline(_MAXLINE + 1), \"iso-8859-1\")\n",
      "  File \"D:\\Progs\\Anaconda\\lib\\socket.py\", line 586, in readinto\n",
      "    return self._sock.recv_into(b)\n",
      "ConnectionResetError: [WinError 10054] Une connexion existante a dû être fermée par l’hôte distant\n",
      "\n",
      "During handling of the above exception, another exception occurred:\n",
      "\n",
      "Traceback (most recent call last):\n",
      "  File \"D:\\Progs\\Anaconda\\lib\\site-packages\\elasticsearch\\connection\\http_urllib3.py\", line 147, in perform_request\n",
      "    response = self.pool.urlopen(method, url, body, retries=False, headers=self.headers, **kw)\n",
      "  File \"D:\\Progs\\Anaconda\\lib\\site-packages\\urllib3\\connectionpool.py\", line 639, in urlopen\n",
      "    _stacktrace=sys.exc_info()[2])\n",
      "  File \"D:\\Progs\\Anaconda\\lib\\site-packages\\urllib3\\util\\retry.py\", line 333, in increment\n",
      "    raise six.reraise(type(error), error, _stacktrace)\n",
      "  File \"D:\\Progs\\Anaconda\\lib\\site-packages\\urllib3\\packages\\six.py\", line 685, in reraise\n",
      "    raise value.with_traceback(tb)\n",
      "  File \"D:\\Progs\\Anaconda\\lib\\site-packages\\urllib3\\connectionpool.py\", line 601, in urlopen\n",
      "    chunked=chunked)\n",
      "  File \"D:\\Progs\\Anaconda\\lib\\site-packages\\urllib3\\connectionpool.py\", line 387, in _make_request\n",
      "    six.raise_from(e, None)\n",
      "  File \"<string>\", line 2, in raise_from\n",
      "  File \"D:\\Progs\\Anaconda\\lib\\site-packages\\urllib3\\connectionpool.py\", line 383, in _make_request\n",
      "    httplib_response = conn.getresponse()\n",
      "  File \"D:\\Progs\\Anaconda\\lib\\http\\client.py\", line 1331, in getresponse\n",
      "    response.begin()\n",
      "  File \"D:\\Progs\\Anaconda\\lib\\http\\client.py\", line 297, in begin\n",
      "    version, status, reason = self._read_status()\n",
      "  File \"D:\\Progs\\Anaconda\\lib\\http\\client.py\", line 258, in _read_status\n",
      "    line = str(self.fp.readline(_MAXLINE + 1), \"iso-8859-1\")\n",
      "  File \"D:\\Progs\\Anaconda\\lib\\socket.py\", line 586, in readinto\n",
      "    return self._sock.recv_into(b)\n",
      "urllib3.exceptions.ProtocolError: ('Connection aborted.', ConnectionResetError(10054, 'Une connexion existante a dû être fermée par l’hôte distant', None, 10054, None))\n",
      "GET http://search-es-domain-.us-east-2.es.amazonaws.com:80/history-*/_search [status:411 request:0.108s]\n",
      "Undecodable raw error response from server: Expecting value: line 1 column 1 (char 0)\n"
     ]
    },
    {
     "ename": "TransportError",
     "evalue": "TransportError(411, '<!DOCTYPE html PUBLIC \"-//W3C//DTD HTML 4.01//EN\" \"http://www.w3.org/TR/html4/strict.dtd\">\\n<html><head>\\n<meta http-equiv=\"Content-Type\" content=\"text/html; charset=utf-8\">\\n<title>ERROR: The requested URL could not be retrieved</title>\\n<style type=\"text/css\"><!-- \\n /*\\n Stylesheet for Squid Error pages\\n Adapted from design by Free CSS Templates\\n http://www.freecsstemplates.org\\n Released for free under a Creative Commons Attribution 2.5 License\\n*/\\n\\n/* Page basics */\\n* {\\n\\tfont-family: verdana, sans-serif;\\n}\\n\\nhtml body {\\n\\tmargin: 0;\\n\\tpadding: 0;\\n\\tbackground: #efefef;\\n\\tfont-size: 12px;\\n\\tcolor: #1e1e1e;\\n}\\n\\n/* Page displayed title area */\\n#titles {\\n\\tmargin-left: 15px;\\n\\tpadding: 10px;\\n\\tpadding-left: 100px;\\n\\tbackground: url(\\'http://www.squid-cache.org/Artwork/SN.png\\') no-repeat left;\\n}\\n\\n/* initial title */\\n#titles h1 {\\n\\tcolor: #000000;\\n}\\n#titles h2 {\\n\\tcolor: #000000;\\n}\\n\\n/* special event: FTP success page titles */\\n#titles ftpsuccess {\\n\\tbackground-color:#00ff00;\\n\\twidth:100%;\\n}\\n\\n/* Page displayed body content area */\\n#content {\\n\\tpadding: 10px;\\n\\tbackground: #ffffff;\\n}\\n\\n/* General text */\\np {\\n}\\n\\n/* error brief description */\\n#error p {\\n}\\n\\n/* some data which may have caused the problem */\\n#data {\\n}\\n\\n/* the error message received from the system or other software */\\n#sysmsg {\\n}\\n\\npre {\\n    font-family:sans-serif;\\n}\\n\\n/* special event: FTP / Gopher directory listing */\\n#dirmsg {\\n    font-family: courier;\\n    color: black;\\n    font-size: 10pt;\\n}\\n#dirlisting {\\n    margin-left: 2%;\\n    margin-right: 2%;\\n}\\n#dirlisting tr.entry td.icon,td.filename,td.size,td.date {\\n    border-bottom: groove;\\n}\\n#dirlisting td.size {\\n    width: 50px;\\n    text-align: right;\\n    padding-right: 5px;\\n}\\n\\n/* horizontal lines */\\nhr {\\n\\tmargin: 0;\\n}\\n\\n/* page displayed footer area */\\n#footer {\\n\\tfont-size: 9px;\\n\\tpadding-left: 10px;\\n}\\n\\n\\nbody\\n:lang(fa) { direction: rtl; font-size: 100%; font-family: Tahoma, Roya, sans-serif; float: right; }\\n:lang(he) { direction: rtl; }\\n --></style>\\n</head><body id=ERR_INVALID_REQ>\\n<div id=\"titles\">\\n<h1>ERROR</h1>\\n<h2>The requested URL could not be retrieved</h2>\\n</div>\\n<hr>\\n\\n<div id=\"content\">\\n<p><b>Invalid Request</b> error was encountered while trying to process the request:</p>\\n\\n<blockquote id=\"data\">\\n<pre>GET /history-*/_search HTTP/1.1\\nHost: search-es-domain-.us-east-2.es.amazonaws.com\\r\\nAccept-Encoding: identity\\r\\nContent-Length: 3171\\r\\nConnection: keep-alive\\r\\nContent-Type: application/json\\r\\n</pre>\\n</blockquote>\\n\\n<p>Some possible problems are:</p>\\n<ul>\\n<li id=\"missing-method\"><p>Missing or unknown request method.</p></li>\\n<li id=\"missing-url\"><p>Missing URL.</p></li>\\n<li id=\"missing-protocol\"><p>Missing HTTP Identifier (HTTP/1.0).</p></li>\\n<li><p>Request is too large.</p></li>\\n<li><p>Content-Length missing for POST or PUT requests.</p></li>\\n<li><p>Illegal character in hostname; underscores are not allowed.</p></li>\\n<li><p>HTTP/1.1 <q>Expect:</q> feature is being asked from an HTTP/1.0 software.</p></li>\\n</ul>\\n\\n<p>Your cache administrator is <a href=\"mailto:root?subject=CacheErrorInfo%20-%20ERR_INVALID_REQ&amp;body=CacheHost%3A%20smb-cl1-07.netinary.net%0D%0AErrPage%3A%20ERR_INVALID_REQ%0D%0AErr%3A%20%5Bnone%5D%0D%0ATimeStamp%3A%20Wed,%2010%20Jan%202018%2011%3A26%3A11%20GMT%0D%0A%0D%0AClientIP%3A%2010.10.206.64%0D%0A%0D%0AHTTP%20Request%3A%0D%0AGET%20%2Fhistory-*%2F_search%20HTTP%2F1.1%0AHost%3A%20search-es-domain-.us-east-2.es.amazonaws.com%0D%0AAccept-Encoding%3A%20identity%0D%0AContent-Length%3A%203171%0D%0AConnection%3A%20keep-alive%0D%0AContent-Type%3A%20application%2Fjson%0D%0A%0D%0A%0D%0A\">root</a>.</p>\\n<br>\\n</div>\\n\\n<script language=\"javascript\">\\nif (\\'GET\\' != \\'[unknown method]\\') document.getElementById(\\'missing-method\\').style.display = \\'none\\';\\nif (\\'http://search-es-domain-.us-east-2.es.amazonaws.com/history-*/_search\\' != \\'[no URL]\\') document.getElementById(\\'missing-url\\').style.display = \\'none\\';\\nif (\\'http\\' != \\'[unknown protocol]\\') document.getElementById(\\'missing-protocol\\').style.display = \\'none\\';\\n</script>\\n\\n<hr>\\n<div id=\"footer\">\\n<p>Generated Wed, 10 Jan 2018 11:26:11 GMT by smb-cl1-07.netinary.net (squid/3.1.23)</p>\\n<!-- ERR_INVALID_REQ -->\\n</div>\\n</body></html>\\n')",
     "output_type": "error",
     "traceback": [
      "\u001b[1;31m---------------------------------------------------------------------------\u001b[0m",
      "\u001b[1;31mTransportError\u001b[0m                            Traceback (most recent call last)",
      "\u001b[1;32m<ipython-input-408-8808e3f3b8f4>\u001b[0m in \u001b[0;36m<module>\u001b[1;34m()\u001b[0m\n\u001b[1;32m----> 1\u001b[1;33m \u001b[0mrangeResult\u001b[0m \u001b[1;33m=\u001b[0m \u001b[0mesHelper\u001b[0m\u001b[1;33m.\u001b[0m\u001b[0mSearch\u001b[0m\u001b[1;33m(\u001b[0m\u001b[0mrangeQuery\u001b[0m\u001b[1;33m)\u001b[0m\u001b[1;33m\u001b[0m\u001b[0m\n\u001b[0m\u001b[0;32m      2\u001b[0m \u001b[0mdisplay\u001b[0m\u001b[1;33m(\u001b[0m\u001b[0mrangeResult\u001b[0m\u001b[1;33m)\u001b[0m\u001b[1;33m\u001b[0m\u001b[0m\n\u001b[0;32m      3\u001b[0m \u001b[0mcHelper\u001b[0m\u001b[1;33m.\u001b[0m\u001b[0mWriteJson\u001b[0m\u001b[1;33m(\u001b[0m\u001b[1;34m'rangeResult.json'\u001b[0m\u001b[1;33m,\u001b[0m \u001b[0mrangeResult\u001b[0m\u001b[1;33m)\u001b[0m\u001b[1;33m\u001b[0m\u001b[0m\n",
      "\u001b[1;32mc:\\src\\jupyter\\ElasticSearchHelper.py\u001b[0m in \u001b[0;36mSearch\u001b[1;34m(self, request)\u001b[0m\n\u001b[0;32m     14\u001b[0m         \u001b[1;31m# es.get(index='history-2017.12.05', doc_type='measure', id='AWAmTXnszcI0DKot8mcZ')\u001b[0m\u001b[1;33m\u001b[0m\u001b[1;33m\u001b[0m\u001b[0m\n\u001b[0;32m     15\u001b[0m \u001b[1;33m\u001b[0m\u001b[0m\n\u001b[1;32m---> 16\u001b[1;33m         \u001b[0mresult\u001b[0m \u001b[1;33m=\u001b[0m \u001b[0mes\u001b[0m\u001b[1;33m.\u001b[0m\u001b[0msearch\u001b[0m\u001b[1;33m(\u001b[0m\u001b[0mindex\u001b[0m\u001b[1;33m=\u001b[0m\u001b[1;34m\"history-*\"\u001b[0m\u001b[1;33m,\u001b[0m \u001b[0mbody\u001b[0m\u001b[1;33m=\u001b[0m\u001b[0mrequest\u001b[0m\u001b[1;33m)\u001b[0m\u001b[1;33m\u001b[0m\u001b[0m\n\u001b[0m\u001b[0;32m     17\u001b[0m         \u001b[1;32mreturn\u001b[0m \u001b[0mresult\u001b[0m\u001b[1;33m\u001b[0m\u001b[0m\n\u001b[0;32m     18\u001b[0m \u001b[1;33m\u001b[0m\u001b[0m\n",
      "\u001b[1;32mD:\\Progs\\Anaconda\\lib\\site-packages\\elasticsearch\\client\\utils.py\u001b[0m in \u001b[0;36m_wrapped\u001b[1;34m(*args, **kwargs)\u001b[0m\n\u001b[0;32m     74\u001b[0m                 \u001b[1;32mif\u001b[0m \u001b[0mp\u001b[0m \u001b[1;32min\u001b[0m \u001b[0mkwargs\u001b[0m\u001b[1;33m:\u001b[0m\u001b[1;33m\u001b[0m\u001b[0m\n\u001b[0;32m     75\u001b[0m                     \u001b[0mparams\u001b[0m\u001b[1;33m[\u001b[0m\u001b[0mp\u001b[0m\u001b[1;33m]\u001b[0m \u001b[1;33m=\u001b[0m \u001b[0mkwargs\u001b[0m\u001b[1;33m.\u001b[0m\u001b[0mpop\u001b[0m\u001b[1;33m(\u001b[0m\u001b[0mp\u001b[0m\u001b[1;33m)\u001b[0m\u001b[1;33m\u001b[0m\u001b[0m\n\u001b[1;32m---> 76\u001b[1;33m             \u001b[1;32mreturn\u001b[0m \u001b[0mfunc\u001b[0m\u001b[1;33m(\u001b[0m\u001b[1;33m*\u001b[0m\u001b[0margs\u001b[0m\u001b[1;33m,\u001b[0m \u001b[0mparams\u001b[0m\u001b[1;33m=\u001b[0m\u001b[0mparams\u001b[0m\u001b[1;33m,\u001b[0m \u001b[1;33m**\u001b[0m\u001b[0mkwargs\u001b[0m\u001b[1;33m)\u001b[0m\u001b[1;33m\u001b[0m\u001b[0m\n\u001b[0m\u001b[0;32m     77\u001b[0m         \u001b[1;32mreturn\u001b[0m \u001b[0m_wrapped\u001b[0m\u001b[1;33m\u001b[0m\u001b[0m\n\u001b[0;32m     78\u001b[0m     \u001b[1;32mreturn\u001b[0m \u001b[0m_wrapper\u001b[0m\u001b[1;33m\u001b[0m\u001b[0m\n",
      "\u001b[1;32mD:\\Progs\\Anaconda\\lib\\site-packages\\elasticsearch\\client\\__init__.py\u001b[0m in \u001b[0;36msearch\u001b[1;34m(self, index, doc_type, body, params)\u001b[0m\n\u001b[0;32m    634\u001b[0m             \u001b[0mindex\u001b[0m \u001b[1;33m=\u001b[0m \u001b[1;34m'_all'\u001b[0m\u001b[1;33m\u001b[0m\u001b[0m\n\u001b[0;32m    635\u001b[0m         return self.transport.perform_request('GET', _make_path(index,\n\u001b[1;32m--> 636\u001b[1;33m             doc_type, '_search'), params=params, body=body)\n\u001b[0m\u001b[0;32m    637\u001b[0m \u001b[1;33m\u001b[0m\u001b[0m\n\u001b[0;32m    638\u001b[0m     @query_params('_source', '_source_exclude', '_source_include',\n",
      "\u001b[1;32mD:\\Progs\\Anaconda\\lib\\site-packages\\elasticsearch\\transport.py\u001b[0m in \u001b[0;36mperform_request\u001b[1;34m(self, method, url, headers, params, body)\u001b[0m\n\u001b[0;32m    312\u001b[0m \u001b[1;33m\u001b[0m\u001b[0m\n\u001b[0;32m    313\u001b[0m             \u001b[1;32mtry\u001b[0m\u001b[1;33m:\u001b[0m\u001b[1;33m\u001b[0m\u001b[0m\n\u001b[1;32m--> 314\u001b[1;33m                 \u001b[0mstatus\u001b[0m\u001b[1;33m,\u001b[0m \u001b[0mheaders\u001b[0m\u001b[1;33m,\u001b[0m \u001b[0mdata\u001b[0m \u001b[1;33m=\u001b[0m \u001b[0mconnection\u001b[0m\u001b[1;33m.\u001b[0m\u001b[0mperform_request\u001b[0m\u001b[1;33m(\u001b[0m\u001b[0mmethod\u001b[0m\u001b[1;33m,\u001b[0m \u001b[0murl\u001b[0m\u001b[1;33m,\u001b[0m \u001b[0mparams\u001b[0m\u001b[1;33m,\u001b[0m \u001b[0mbody\u001b[0m\u001b[1;33m,\u001b[0m \u001b[0mheaders\u001b[0m\u001b[1;33m=\u001b[0m\u001b[0mheaders\u001b[0m\u001b[1;33m,\u001b[0m \u001b[0mignore\u001b[0m\u001b[1;33m=\u001b[0m\u001b[0mignore\u001b[0m\u001b[1;33m,\u001b[0m \u001b[0mtimeout\u001b[0m\u001b[1;33m=\u001b[0m\u001b[0mtimeout\u001b[0m\u001b[1;33m)\u001b[0m\u001b[1;33m\u001b[0m\u001b[0m\n\u001b[0m\u001b[0;32m    315\u001b[0m \u001b[1;33m\u001b[0m\u001b[0m\n\u001b[0;32m    316\u001b[0m             \u001b[1;32mexcept\u001b[0m \u001b[0mTransportError\u001b[0m \u001b[1;32mas\u001b[0m \u001b[0me\u001b[0m\u001b[1;33m:\u001b[0m\u001b[1;33m\u001b[0m\u001b[0m\n",
      "\u001b[1;32mD:\\Progs\\Anaconda\\lib\\site-packages\\elasticsearch\\connection\\http_urllib3.py\u001b[0m in \u001b[0;36mperform_request\u001b[1;34m(self, method, url, params, body, timeout, ignore, headers)\u001b[0m\n\u001b[0;32m    159\u001b[0m         \u001b[1;32mif\u001b[0m \u001b[1;32mnot\u001b[0m \u001b[1;33m(\u001b[0m\u001b[1;36m200\u001b[0m \u001b[1;33m<=\u001b[0m \u001b[0mresponse\u001b[0m\u001b[1;33m.\u001b[0m\u001b[0mstatus\u001b[0m \u001b[1;33m<\u001b[0m \u001b[1;36m300\u001b[0m\u001b[1;33m)\u001b[0m \u001b[1;32mand\u001b[0m \u001b[0mresponse\u001b[0m\u001b[1;33m.\u001b[0m\u001b[0mstatus\u001b[0m \u001b[1;32mnot\u001b[0m \u001b[1;32min\u001b[0m \u001b[0mignore\u001b[0m\u001b[1;33m:\u001b[0m\u001b[1;33m\u001b[0m\u001b[0m\n\u001b[0;32m    160\u001b[0m             \u001b[0mself\u001b[0m\u001b[1;33m.\u001b[0m\u001b[0mlog_request_fail\u001b[0m\u001b[1;33m(\u001b[0m\u001b[0mmethod\u001b[0m\u001b[1;33m,\u001b[0m \u001b[0mfull_url\u001b[0m\u001b[1;33m,\u001b[0m \u001b[0murl\u001b[0m\u001b[1;33m,\u001b[0m \u001b[0mbody\u001b[0m\u001b[1;33m,\u001b[0m \u001b[0mduration\u001b[0m\u001b[1;33m,\u001b[0m \u001b[0mresponse\u001b[0m\u001b[1;33m.\u001b[0m\u001b[0mstatus\u001b[0m\u001b[1;33m,\u001b[0m \u001b[0mraw_data\u001b[0m\u001b[1;33m)\u001b[0m\u001b[1;33m\u001b[0m\u001b[0m\n\u001b[1;32m--> 161\u001b[1;33m             \u001b[0mself\u001b[0m\u001b[1;33m.\u001b[0m\u001b[0m_raise_error\u001b[0m\u001b[1;33m(\u001b[0m\u001b[0mresponse\u001b[0m\u001b[1;33m.\u001b[0m\u001b[0mstatus\u001b[0m\u001b[1;33m,\u001b[0m \u001b[0mraw_data\u001b[0m\u001b[1;33m)\u001b[0m\u001b[1;33m\u001b[0m\u001b[0m\n\u001b[0m\u001b[0;32m    162\u001b[0m \u001b[1;33m\u001b[0m\u001b[0m\n\u001b[0;32m    163\u001b[0m         self.log_request_success(method, full_url, url, body, response.status,\n",
      "\u001b[1;32mD:\\Progs\\Anaconda\\lib\\site-packages\\elasticsearch\\connection\\base.py\u001b[0m in \u001b[0;36m_raise_error\u001b[1;34m(self, status_code, raw_data)\u001b[0m\n\u001b[0;32m    123\u001b[0m             \u001b[0mlogger\u001b[0m\u001b[1;33m.\u001b[0m\u001b[0mwarning\u001b[0m\u001b[1;33m(\u001b[0m\u001b[1;34m'Undecodable raw error response from server: %s'\u001b[0m\u001b[1;33m,\u001b[0m \u001b[0merr\u001b[0m\u001b[1;33m)\u001b[0m\u001b[1;33m\u001b[0m\u001b[0m\n\u001b[0;32m    124\u001b[0m \u001b[1;33m\u001b[0m\u001b[0m\n\u001b[1;32m--> 125\u001b[1;33m         \u001b[1;32mraise\u001b[0m \u001b[0mHTTP_EXCEPTIONS\u001b[0m\u001b[1;33m.\u001b[0m\u001b[0mget\u001b[0m\u001b[1;33m(\u001b[0m\u001b[0mstatus_code\u001b[0m\u001b[1;33m,\u001b[0m \u001b[0mTransportError\u001b[0m\u001b[1;33m)\u001b[0m\u001b[1;33m(\u001b[0m\u001b[0mstatus_code\u001b[0m\u001b[1;33m,\u001b[0m \u001b[0merror_message\u001b[0m\u001b[1;33m,\u001b[0m \u001b[0madditional_info\u001b[0m\u001b[1;33m)\u001b[0m\u001b[1;33m\u001b[0m\u001b[0m\n\u001b[0m\u001b[0;32m    126\u001b[0m \u001b[1;33m\u001b[0m\u001b[0m\n\u001b[0;32m    127\u001b[0m \u001b[1;33m\u001b[0m\u001b[0m\n",
      "\u001b[1;31mTransportError\u001b[0m: TransportError(411, '<!DOCTYPE html PUBLIC \"-//W3C//DTD HTML 4.01//EN\" \"http://www.w3.org/TR/html4/strict.dtd\">\\n<html><head>\\n<meta http-equiv=\"Content-Type\" content=\"text/html; charset=utf-8\">\\n<title>ERROR: The requested URL could not be retrieved</title>\\n<style type=\"text/css\"><!-- \\n /*\\n Stylesheet for Squid Error pages\\n Adapted from design by Free CSS Templates\\n http://www.freecsstemplates.org\\n Released for free under a Creative Commons Attribution 2.5 License\\n*/\\n\\n/* Page basics */\\n* {\\n\\tfont-family: verdana, sans-serif;\\n}\\n\\nhtml body {\\n\\tmargin: 0;\\n\\tpadding: 0;\\n\\tbackground: #efefef;\\n\\tfont-size: 12px;\\n\\tcolor: #1e1e1e;\\n}\\n\\n/* Page displayed title area */\\n#titles {\\n\\tmargin-left: 15px;\\n\\tpadding: 10px;\\n\\tpadding-left: 100px;\\n\\tbackground: url(\\'http://www.squid-cache.org/Artwork/SN.png\\') no-repeat left;\\n}\\n\\n/* initial title */\\n#titles h1 {\\n\\tcolor: #000000;\\n}\\n#titles h2 {\\n\\tcolor: #000000;\\n}\\n\\n/* special event: FTP success page titles */\\n#titles ftpsuccess {\\n\\tbackground-color:#00ff00;\\n\\twidth:100%;\\n}\\n\\n/* Page displayed body content area */\\n#content {\\n\\tpadding: 10px;\\n\\tbackground: #ffffff;\\n}\\n\\n/* General text */\\np {\\n}\\n\\n/* error brief description */\\n#error p {\\n}\\n\\n/* some data which may have caused the problem */\\n#data {\\n}\\n\\n/* the error message received from the system or other software */\\n#sysmsg {\\n}\\n\\npre {\\n    font-family:sans-serif;\\n}\\n\\n/* special event: FTP / Gopher directory listing */\\n#dirmsg {\\n    font-family: courier;\\n    color: black;\\n    font-size: 10pt;\\n}\\n#dirlisting {\\n    margin-left: 2%;\\n    margin-right: 2%;\\n}\\n#dirlisting tr.entry td.icon,td.filename,td.size,td.date {\\n    border-bottom: groove;\\n}\\n#dirlisting td.size {\\n    width: 50px;\\n    text-align: right;\\n    padding-right: 5px;\\n}\\n\\n/* horizontal lines */\\nhr {\\n\\tmargin: 0;\\n}\\n\\n/* page displayed footer area */\\n#footer {\\n\\tfont-size: 9px;\\n\\tpadding-left: 10px;\\n}\\n\\n\\nbody\\n:lang(fa) { direction: rtl; font-size: 100%; font-family: Tahoma, Roya, sans-serif; float: right; }\\n:lang(he) { direction: rtl; }\\n --></style>\\n</head><body id=ERR_INVALID_REQ>\\n<div id=\"titles\">\\n<h1>ERROR</h1>\\n<h2>The requested URL could not be retrieved</h2>\\n</div>\\n<hr>\\n\\n<div id=\"content\">\\n<p><b>Invalid Request</b> error was encountered while trying to process the request:</p>\\n\\n<blockquote id=\"data\">\\n<pre>GET /history-*/_search HTTP/1.1\\nHost: search-es-domain-.us-east-2.es.amazonaws.com\\r\\nAccept-Encoding: identity\\r\\nContent-Length: 3171\\r\\nConnection: keep-alive\\r\\nContent-Type: application/json\\r\\n</pre>\\n</blockquote>\\n\\n<p>Some possible problems are:</p>\\n<ul>\\n<li id=\"missing-method\"><p>Missing or unknown request method.</p></li>\\n<li id=\"missing-url\"><p>Missing URL.</p></li>\\n<li id=\"missing-protocol\"><p>Missing HTTP Identifier (HTTP/1.0).</p></li>\\n<li><p>Request is too large.</p></li>\\n<li><p>Content-Length missing for POST or PUT requests.</p></li>\\n<li><p>Illegal character in hostname; underscores are not allowed.</p></li>\\n<li><p>HTTP/1.1 <q>Expect:</q> feature is being asked from an HTTP/1.0 software.</p></li>\\n</ul>\\n\\n<p>Your cache administrator is <a href=\"mailto:root?subject=CacheErrorInfo%20-%20ERR_INVALID_REQ&amp;body=CacheHost%3A%20smb-cl1-07.netinary.net%0D%0AErrPage%3A%20ERR_INVALID_REQ%0D%0AErr%3A%20%5Bnone%5D%0D%0ATimeStamp%3A%20Wed,%2010%20Jan%202018%2011%3A26%3A11%20GMT%0D%0A%0D%0AClientIP%3A%2010.10.206.64%0D%0A%0D%0AHTTP%20Request%3A%0D%0AGET%20%2Fhistory-*%2F_search%20HTTP%2F1.1%0AHost%3A%20search-es-domain-.us-east-2.es.amazonaws.com%0D%0AAccept-Encoding%3A%20identity%0D%0AContent-Length%3A%203171%0D%0AConnection%3A%20keep-alive%0D%0AContent-Type%3A%20application%2Fjson%0D%0A%0D%0A%0D%0A\">root</a>.</p>\\n<br>\\n</div>\\n\\n<script language=\"javascript\">\\nif (\\'GET\\' != \\'[unknown method]\\') document.getElementById(\\'missing-method\\').style.display = \\'none\\';\\nif (\\'http://search-es-domain-.us-east-2.es.amazonaws.com/history-*/_search\\' != \\'[no URL]\\') document.getElementById(\\'missing-url\\').style.display = \\'none\\';\\nif (\\'http\\' != \\'[unknown protocol]\\') document.getElementById(\\'missing-protocol\\').style.display = \\'none\\';\\n</script>\\n\\n<hr>\\n<div id=\"footer\">\\n<p>Generated Wed, 10 Jan 2018 11:26:11 GMT by smb-cl1-07.netinary.net (squid/3.1.23)</p>\\n<!-- ERR_INVALID_REQ -->\\n</div>\\n</body></html>\\n')"
     ]
    }
   ],
   "source": [
    "rangeResult = esHelper.Search(rangeQuery)\n",
    "display(rangeResult)\n",
    "cHelper.WriteJson('rangeResult.json', rangeResult)"
   ]
  },
  {
   "cell_type": "code",
   "execution_count": 6,
   "metadata": {
    "collapsed": true
   },
   "outputs": [],
   "source": [
    "rangeResult = cHelper.ReadJson('rangeResult.json')"
   ]
  },
  {
   "cell_type": "code",
   "execution_count": 12,
   "metadata": {},
   "outputs": [
    {
     "data": {
      "text/plain": [
       "'Boiler(0) Pipe MA'"
      ]
     },
     "metadata": {},
     "output_type": "display_data"
    },
    {
     "data": {
      "text/plain": [
       "'2018-01-04T19:13:00.000Z-2018-01-05T19:33:00.000Z'"
      ]
     },
     "metadata": {},
     "output_type": "display_data"
    },
    {
     "data": {
      "text/plain": [
       "31.15609375"
      ]
     },
     "metadata": {},
     "output_type": "display_data"
    },
    {
     "data": {
      "text/plain": [
       "'Stairs(2) Battery'"
      ]
     },
     "metadata": {},
     "output_type": "display_data"
    },
    {
     "data": {
      "text/plain": [
       "'2018-01-04T19:13:00.000Z-2018-01-05T19:33:00.000Z'"
      ]
     },
     "metadata": {},
     "output_type": "display_data"
    },
    {
     "data": {
      "text/plain": [
       "21.729918204697988"
      ]
     },
     "metadata": {},
     "output_type": "display_data"
    },
    {
     "data": {
      "text/plain": [
       "'WoodNorth(2) Battery'"
      ]
     },
     "metadata": {},
     "output_type": "display_data"
    },
    {
     "data": {
      "text/plain": [
       "'2018-01-04T19:13:00.000Z-2018-01-05T19:33:00.000Z'"
      ]
     },
     "metadata": {},
     "output_type": "display_data"
    },
    {
     "data": {
      "text/plain": [
       "20.625206270627064"
      ]
     },
     "metadata": {},
     "output_type": "display_data"
    },
    {
     "data": {
      "text/plain": [
       "'WoodSouth(2) Battery'"
      ]
     },
     "metadata": {},
     "output_type": "display_data"
    },
    {
     "data": {
      "text/plain": [
       "'2018-01-04T19:13:00.000Z-2018-01-05T19:33:00.000Z'"
      ]
     },
     "metadata": {},
     "output_type": "display_data"
    },
    {
     "data": {
      "text/plain": [
       "20.614791666666665"
      ]
     },
     "metadata": {},
     "output_type": "display_data"
    },
    {
     "data": {
      "text/plain": [
       "'White(2) Battery'"
      ]
     },
     "metadata": {},
     "output_type": "display_data"
    },
    {
     "data": {
      "text/plain": [
       "'2018-01-04T19:13:00.000Z-2018-01-05T19:33:00.000Z'"
      ]
     },
     "metadata": {},
     "output_type": "display_data"
    },
    {
     "data": {
      "text/plain": [
       "19.913575819672133"
      ]
     },
     "metadata": {},
     "output_type": "display_data"
    },
    {
     "data": {
      "text/plain": [
       "'Villebon(.) Station'"
      ]
     },
     "metadata": {},
     "output_type": "display_data"
    },
    {
     "data": {
      "text/plain": [
       "'2018-01-04T19:13:00.000Z-2018-01-05T19:33:00.000Z'"
      ]
     },
     "metadata": {},
     "output_type": "display_data"
    },
    {
     "data": {
      "text/plain": [
       "9.513134057971014"
      ]
     },
     "metadata": {},
     "output_type": "display_data"
    }
   ],
   "source": [
    "history = {}\n",
    "# display(rangeResult['aggregations']['2']['buckets'])\n",
    "for measure in rangeResult['aggregations']['2']['buckets']:\n",
    "    data_sensor = {}\n",
    "    for homeSensorData in measure['3']['buckets']:\n",
    "        days = (homeSensorData['to'] - homeSensorData['from']) / 1000 / 60 / 60 / 24\n",
    "        data_sensor[homeSensorData['key']] = { \n",
    "            'value': homeSensorData['1']['value'],\n",
    "            'duration': days \n",
    "        }\n",
    "    display(measure['key'], homeSensorData['key'], homeSensorData['1']['value'])\n",
    "    history[measure['key']] = data_sensor"
   ]
  },
  {
   "cell_type": "code",
   "execution_count": 431,
   "metadata": {},
   "outputs": [],
   "source": [
    "## create X and Y\n",
    "gas_Y = []\n",
    "all_X = [] # all input data\n",
    "pipetemp_X = [] # 'Boiler(0) Pipe MA'\n",
    "exttemp_X = [] # 'Villebon(.) Station'\n",
    "fl2temp_X = [] # \"WoodSouth(2) Battery\", \"WoodNorth(2) Battery\", \"Stairs(2) Battery\", \"White(2) Battery\"\n",
    "inouttemp_X = [] # \"WoodSouth(2) Battery\", \"WoodNorth(2) Battery\", \"Stairs(2) Battery\", \"White(2) Battery\", 'Villebon(.) Station'\n",
    "durations = [] # ['duration']\n",
    "time_keys = []\n",
    "for_range = history['Villebon(.) Station'].keys()\n",
    "\n",
    "for key in for_range:\n",
    "    duration = history['Villebon(.) Station'][key]['duration']\n",
    "    exttemp = history['Villebon(.) Station'][key]['value']\n",
    "    gas = [x for x in gasDataDelta if x.TimeKey() == key][0].Value() / duration \n",
    "    if duration > 8 or duration < 0.6:# or exttemp < 3.0 or exttemp > 9.0:\n",
    "        continue\n",
    "    gas_Y.append(gas)\n",
    "    pipetemp_X.append([ history['Boiler(0) Pipe MA'][key]['value'] ])\n",
    "    exttemp_X.append([ history['Villebon(.) Station'][key]['value'] ])\n",
    "    fl2temp = np.mean([ history['WoodSouth(2) Battery'][key]['value'], history['WoodNorth(2) Battery'][key]['value'], \\\n",
    "                       history['Stairs(2) Battery'][key]['value'], history['White(2) Battery'][key]['value']])\n",
    "    fl2temp_X.append([ fl2temp ])\n",
    "    all_X.append([ history['Boiler(0) Pipe MA'][key]['value'], history['Villebon(.) Station'][key]['value'], fl2temp])\n",
    "    inouttemp_X.append([ history['Villebon(.) Station'][key]['value'], fl2temp])\n",
    "    durations.append(duration)\n",
    "    time_keys.append(key)\n",
    "\n",
    "indexes = np.arange(len(X))\n",
    "X = all_X\n",
    "sampling_X = np.vstack(np.linspace(np.amin(X), np.amax(X), num=41))\n",
    "wieghts = cHelper.Normalize(durations)"
   ]
  },
  {
   "cell_type": "code",
   "execution_count": 435,
   "metadata": {},
   "outputs": [],
   "source": [
    "# #############################################################################\n",
    "# Fit regression model\n",
    "svr_rbf = SVR(kernel='rbf', C=1e3, gamma=0.001)\n",
    "svr_lin = SVR(kernel='linear', C=1e3)"
   ]
  },
  {
   "cell_type": "code",
   "execution_count": 442,
   "metadata": {
    "scrolled": true
   },
   "outputs": [],
   "source": [
    "fit_rbf = svr_rbf.fit(X, gas_Y, wieghts)\n",
    "fit_lin = svr_lin.fit(X, gas_Y, wieghts)\n",
    "y_rbf = fit_rbf.predict(X)\n",
    "y_lin = fit_lin.predict(X)"
   ]
  },
  {
   "cell_type": "code",
   "execution_count": 443,
   "metadata": {},
   "outputs": [
    {
     "name": "stdout",
     "output_type": "stream",
     "text": [
      "RBF = 0.79 (+/-0.79) Score=0.88\n",
      "LIN = 0.98 (+/-0.82) Score=0.88\n"
     ]
    },
    {
     "data": {
      "text/plain": [
       "[6, 15.257743517868628, 13.699940327975622, 1.557803189893006]"
      ]
     },
     "metadata": {},
     "output_type": "display_data"
    },
    {
     "data": {
      "text/plain": [
       "[7, 14.747234042551854, 13.448247140760525, 1.2989869017913289]"
      ]
     },
     "metadata": {},
     "output_type": "display_data"
    },
    {
     "data": {
      "text/plain": [
       "[12, 12.366467977173201, 12.266774214394939, 0.099693762778262141]"
      ]
     },
     "metadata": {},
     "output_type": "display_data"
    }
   ],
   "source": [
    "# Evaluate the models using crossvalidation\n",
    "scores = cross_val_score(svr_rbf, X, gas_Y, scoring=\"neg_mean_squared_error\", cv=10)\n",
    "print(\"RBF = {:.2f} (+/-{:.2f}) Score={:.2f}\".format(-scores.mean(), scores.std(), svr_rbf.score(X, gas_Y, wieghts)))\n",
    "scores = cross_val_score(svr_lin, X, gas_Y, scoring=\"neg_mean_squared_error\", cv=10)\n",
    "print(\"LIN = {:.2f} (+/-{:.2f}) Score={:.2f}\".format(-scores.mean(), scores.std(), svr_lin.score(X, gas_Y, wieghts)))\n",
    "\n",
    "log_indexes = [6, 7, 12]\n",
    "for i in log_indexes:\n",
    "    display([i, gas_Y[i], y_rbf[i], gas_Y[i] - y_rbf[i]])#, pipetemp_X[i], exttemp_X[i], fl2temp_X[i], time_keys[i], durations[i]])"
   ]
  },
  {
   "cell_type": "code",
   "execution_count": 425,
   "metadata": {},
   "outputs": [
    {
     "data": {
      "image/png": "[encoded data removed]",
      "text/plain": [
       "<matplotlib.figure.Figure at 0x96191d0>"
      ]
     },
     "metadata": {},
     "output_type": "display_data"
    },
    {
     "name": "stdout",
     "output_type": "stream",
     "text": [
      "RBF = 1.31 (+/-1.26)\n",
      "LIN = 1.32 (+/-1.30)\n"
     ]
    }
   ],
   "source": [
    "X = exttemp_X\n",
    "sampling_X = np.vstack(np.linspace(np.amin(X), np.amax(X), num=41))\n",
    "\n",
    "# #############################################################################\n",
    "# Fit regression model\n",
    "svr_rbf = SVR(kernel='rbf', C=1e3, gamma=0.001)\n",
    "svr_lin = SVR(kernel='linear', C=1e3)\n",
    "fit_rbf_1d = svr_rbf.fit(X, gas_Y, wieghts)\n",
    "fit_lin_1d = svr_lin.fit(X, gas_Y, wieghts)\n",
    "\n",
    "y_rbf = fit_rbf_1d.predict(sampling_X)\n",
    "y_lin = fit_lin_1d.predict(sampling_X)\n",
    "y_rbf_OnX = fit_rbf.predict(all_X)\n",
    "\n",
    "barerror = cHelper.Normalize(np.absolute(y_rbf_OnX - gas_Y))*1.0\n",
    "color = cHelper.Normalize(fl2temp_X)\n",
    "annotation = y_rbf_OnX - gas_Y #np.array(fl2temp_X).reshape(len(fl2temp_X))\n",
    "size = cHelper.Normalize(durations)*500.0\n",
    "\n",
    "lw = 1\n",
    "fig = plt.figure(figsize=(12, 12))\n",
    "ax = fig.add_subplot(111)\n",
    "ax.plot(sampling_X, y_rbf, color='navy', lw=lw, label='RBF model')\n",
    "ax.plot(sampling_X, y_lin, color='c', lw=lw, label='Linear model')\n",
    "ax.errorbar(X, gas_Y, yerr=barerror, fmt='.')\n",
    "ax.scatter(X, gas_Y, c=color, s=size, label='data')\n",
    "plt.title('Gas prediction')\n",
    "plt.xlabel('Based value')\n",
    "plt.ylabel('Gas usage: liters/day')\n",
    "ax.legend()\n",
    "#ax.rcParams[\"figure.figsize\"] = [12, 12]\n",
    "\n",
    "for i in range(len(annotation)):\n",
    "    txt = \"{}: {:.2f}\".format(indexes[i], annotation[i])\n",
    "    ax.annotate(txt, (X[i][0],gas_Y[i]), fontsize=10)\n",
    "\n",
    "plt.show()\n",
    "\n",
    "scores = cross_val_score(svr_rbf, X, gas_Y, scoring=\"neg_mean_squared_error\", cv=10)\n",
    "print(\"RBF = {:.2f} (+/-{:.2f})\".format(-scores.mean(), scores.std()))\n",
    "scores = cross_val_score(svr_lin, X, gas_Y, scoring=\"neg_mean_squared_error\", cv=10)\n",
    "print(\"LIN = {:.2f} (+/-{:.2f})\".format(-scores.mean(), scores.std()))"
   ]
  },
  {
   "cell_type": "code",
   "execution_count": 361,
   "metadata": {
    "scrolled": true
   },
   "outputs": [
    {
     "data": {
      "text/plain": [
       "[9, 5.574193548382026, 7.9690323931986402, -2.394838844816614]"
      ]
     },
     "metadata": {},
     "output_type": "display_data"
    },
    {
     "data": {
      "text/plain": [
       "[10, 1.7279999999893614, 1.8282652462658096, -0.10026524627644817]"
      ]
     },
     "metadata": {},
     "output_type": "display_data"
    },
    {
     "data": {
      "text/plain": [
       "[25, 6.281095353245055, 10.786664139468153, -4.5055687862230975]"
      ]
     },
     "metadata": {},
     "output_type": "display_data"
    },
    {
     "data": {
      "text/plain": [
       "[33, 12.366467977173201, 12.466619398157613, -0.1001514209844121]"
      ]
     },
     "metadata": {},
     "output_type": "display_data"
    },
    {
     "data": {
      "text/plain": [
       "[22, 19.741935483879413, 18.864070613058239, 0.87786487082117404]"
      ]
     },
     "metadata": {},
     "output_type": "display_data"
    },
    {
     "data": {
      "text/plain": [
       "[27, 18.835678670351868, 13.945764448187854, 4.8899142221640144]"
      ]
     },
     "metadata": {},
     "output_type": "display_data"
    },
    {
     "data": {
      "text/plain": [
       "[28, 20.164235294119432, 17.666904723869443, 2.4973305702499893]"
      ]
     },
     "metadata": {},
     "output_type": "display_data"
    }
   ],
   "source": [
    "y_rbf = svr_rbf.fit(X, gas_Y).predict(X)y_lin = svr_lin.fit(X, gas_Y).predict(X)\n",
    "#y_poly = svr_poly.fit(X, gas_Y).predict(sampling_X)\n",
    "log_indexes = [9, 10, 25, 33, 22, 27, 28]\n",
    "for i in log_indexes: # \n",
    "    display([i, gas_Y[i], y_rbf[i], gas_Y[i] - y_rbf[i]])#, pipetemp_X[i], exttemp_X[i], fl2temp_X[i], time_keys[i], durations[i]])"
   ]
  },
  {
   "cell_type": "code",
   "execution_count": null,
   "metadata": {
    "collapsed": true
   },
   "outputs": [],
   "source": []
  }
 ],
 "metadata": {
  "kernelspec": {
   "display_name": "Python 3",
   "language": "python",
   "name": "python3"
  },
  "language_info": {
   "codemirror_mode": {
    "name": "ipython",
    "version": 3
   },
   "file_extension": ".py",
   "mimetype": "text/x-python",
   "name": "python",
   "nbconvert_exporter": "python",
   "pygments_lexer": "ipython3",
   "version": "3.6.3"
  }
 },
 "nbformat": 4,
 "nbformat_minor": 2
}
