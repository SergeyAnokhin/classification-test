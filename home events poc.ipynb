{
 "cells": [
  {
   "cell_type": "code",
   "execution_count": 78,
   "metadata": {
    "collapsed": true
   },
   "outputs": [],
   "source": [
    "# %matplotlib inline\n",
    "import matplotlib\n",
    "import matplotlib.pyplot as plt\n",
    "import numpy as np\n",
    "import timeit\n",
    "from sklearn.model_selection import train_test_split\n",
    "from sklearn.preprocessing import StandardScaler\n",
    "from sklearn.datasets import make_moons, make_circles, make_classification\n",
    "from sklearn.neural_network import MLPClassifier\n",
    "from sklearn.neighbors import KNeighborsClassifier\n",
    "from sklearn.svm import SVC\n",
    "from sklearn.gaussian_process import GaussianProcessClassifier\n",
    "from sklearn.gaussian_process.kernels import RBF\n",
    "from sklearn.tree import DecisionTreeClassifier\n",
    "from sklearn.ensemble import RandomForestClassifier, AdaBoostClassifier\n",
    "from sklearn.naive_bayes import GaussianNB\n",
    "from sklearn.discriminant_analysis import QuadraticDiscriminantAnalysis"
   ]
  },
  {
   "cell_type": "code",
   "execution_count": 91,
   "metadata": {},
   "outputs": [
    {
     "data": {
      "text/plain": [
       "{'AdaBoost': AdaBoostClassifier(algorithm='SAMME.R', base_estimator=None,\n",
       "           learning_rate=1.0, n_estimators=50, random_state=None),\n",
       " 'Decision Tree': DecisionTreeClassifier(class_weight=None, criterion='gini', max_depth=5,\n",
       "             max_features=None, max_leaf_nodes=None,\n",
       "             min_impurity_decrease=0.0, min_impurity_split=None,\n",
       "             min_samples_leaf=1, min_samples_split=2,\n",
       "             min_weight_fraction_leaf=0.0, presort=False, random_state=None,\n",
       "             splitter='best'),\n",
       " 'Gaussian Process': GaussianProcessClassifier(copy_X_train=True,\n",
       "              kernel=1**2 * RBF(length_scale=1), max_iter_predict=100,\n",
       "              multi_class='one_vs_rest', n_jobs=1, n_restarts_optimizer=0,\n",
       "              optimizer='fmin_l_bfgs_b', random_state=None,\n",
       "              warm_start=False),\n",
       " 'Naive Bayes': GaussianNB(priors=None),\n",
       " 'Nearest Neighbors': KNeighborsClassifier(algorithm='auto', leaf_size=30, metric='minkowski',\n",
       "            metric_params=None, n_jobs=1, n_neighbors=3, p=2,\n",
       "            weights='uniform'),\n",
       " 'Neural Net(Adam)': MLPClassifier(activation='relu', alpha=1, batch_size='auto', beta_1=0.9,\n",
       "        beta_2=0.999, early_stopping=False, epsilon=1e-08,\n",
       "        hidden_layer_sizes=(100,), learning_rate='constant',\n",
       "        learning_rate_init=0.001, max_iter=500, momentum=0.9,\n",
       "        nesterovs_momentum=True, power_t=0.5, random_state=None,\n",
       "        shuffle=True, solver='adam', tol=0.0001, validation_fraction=0.1,\n",
       "        verbose=False, warm_start=False),\n",
       " 'Neural Net(Adam, a0.01)': MLPClassifier(activation='relu', alpha=0.01, batch_size='auto', beta_1=0.9,\n",
       "        beta_2=0.999, early_stopping=False, epsilon=1e-08,\n",
       "        hidden_layer_sizes=(100,), learning_rate='constant',\n",
       "        learning_rate_init=0.001, max_iter=500, momentum=0.9,\n",
       "        nesterovs_momentum=True, power_t=0.5, random_state=None,\n",
       "        shuffle=True, solver='adam', tol=0.0001, validation_fraction=0.1,\n",
       "        verbose=False, warm_start=False),\n",
       " 'Neural Net(Adam, a0.1)': MLPClassifier(activation='relu', alpha=0.1, batch_size='auto', beta_1=0.9,\n",
       "        beta_2=0.999, early_stopping=False, epsilon=1e-08,\n",
       "        hidden_layer_sizes=(100,), learning_rate='constant',\n",
       "        learning_rate_init=0.001, max_iter=500, momentum=0.9,\n",
       "        nesterovs_momentum=True, power_t=0.5, random_state=None,\n",
       "        shuffle=True, solver='adam', tol=0.0001, validation_fraction=0.1,\n",
       "        verbose=False, warm_start=False),\n",
       " 'Neural Net(Sgd)': MLPClassifier(activation='relu', alpha=1, batch_size='auto', beta_1=0.9,\n",
       "        beta_2=0.999, early_stopping=False, epsilon=1e-08,\n",
       "        hidden_layer_sizes=(100,), learning_rate='constant',\n",
       "        learning_rate_init=0.001, max_iter=500, momentum=0.9,\n",
       "        nesterovs_momentum=True, power_t=0.5, random_state=None,\n",
       "        shuffle=True, solver='sgd', tol=0.0001, validation_fraction=0.1,\n",
       "        verbose=False, warm_start=False),\n",
       " 'RBF SVM': SVC(C=1, cache_size=200, class_weight=None, coef0=0.0,\n",
       "   decision_function_shape='ovr', degree=3, gamma=2, kernel='rbf',\n",
       "   max_iter=-1, probability=False, random_state=None, shrinking=True,\n",
       "   tol=0.001, verbose=False),\n",
       " 'Random Forest': RandomForestClassifier(bootstrap=True, class_weight=None, criterion='gini',\n",
       "             max_depth=5, max_features=1, max_leaf_nodes=None,\n",
       "             min_impurity_decrease=0.0, min_impurity_split=None,\n",
       "             min_samples_leaf=1, min_samples_split=2,\n",
       "             min_weight_fraction_leaf=0.0, n_estimators=10, n_jobs=1,\n",
       "             oob_score=False, random_state=None, verbose=0,\n",
       "             warm_start=False)}"
      ]
     },
     "metadata": {},
     "output_type": "display_data"
    }
   ],
   "source": [
    "classifiers = {\n",
    "        \"RBF SVM\":              \n",
    "            SVC(gamma=2, C=1),\n",
    "        \"Decision Tree\":        \n",
    "            DecisionTreeClassifier(max_depth=5),\n",
    "        \"Random Forest\":        \n",
    "            RandomForestClassifier(max_depth=5, n_estimators=10, max_features=1),\n",
    "        \"Neural Net(Adam)\":     \n",
    "            MLPClassifier(alpha=1, max_iter=500, solver='adam'), # , verbose=10\n",
    "        \"Neural Net(Adam, a0.1)\":     \n",
    "            MLPClassifier(alpha=.1, max_iter=500, solver='adam'), # , verbose=10\n",
    "        \"Neural Net(Adam, a0.01)\":     \n",
    "            MLPClassifier(alpha=.01, max_iter=500, solver='adam'), # , verbose=10\n",
    "        \"Neural Net(Adam)\":     \n",
    "            MLPClassifier(alpha=1, max_iter=500, solver='adam'), # , verbose=10\n",
    "        \"Naive Bayes\":          \n",
    "            GaussianNB(),\n",
    "        \"Neural Net(Sgd)\":      \n",
    "            MLPClassifier(alpha=1, max_iter=500, solver='sgd'), # , verbose=10\n",
    "        #\"Linear SVM\":           SVC(kernel=\"linear\", C=0.025),\n",
    "        \"Nearest Neighbors\":    \n",
    "            KNeighborsClassifier(3),\n",
    "        \"Gaussian Process\":     \n",
    "            GaussianProcessClassifier(1.0 * RBF(1.0)),\n",
    "        \"AdaBoost\":             \n",
    "            AdaBoostClassifier(),\n",
    "        #\"QDA\":                  QuadraticDiscriminantAnalysis(),\n",
    "    }\n",
    "display(classifiers)\n",
    "hall0Pir = ('hall0Pir', 0)\n",
    "hall0door = ('hall0door', 1)\n",
    "cameraFront = ('cameraFront', 2)\n",
    "cameraBack = ('cameraBack', 3)\n",
    "corridor1Pir = ('corridor1Pir', 4)"
   ]
  },
  {
   "cell_type": "code",
   "execution_count": 71,
   "metadata": {},
   "outputs": [],
   "source": [
    "%run home_events_poc.py\n",
    "ctx = HomeEventsContext()\n",
    "\n",
    "ctx.AddSequence('alert', {\n",
    "    0 : corridor1Pir,\n",
    "    1 : [hall0Pir, hall0door],\n",
    "    9 : cameraFront\n",
    "})\n",
    "\n",
    "ctx.AddSequence('alert', {\n",
    "    0 : corridor1Pir,\n",
    "    1 : hall0Pir,\n",
    "    9 : cameraBack\n",
    "})\n",
    "\n",
    "ctx.AddSequence('alert', {\n",
    "    0 : corridor1Pir,\n",
    "    1 : hall0Pir,\n",
    "    8 : cameraBack,\n",
    "    9 : cameraFront\n",
    "})\n",
    "\n",
    "ctx.AddSequence('master_come', {\n",
    "    0 : corridor1Pir,\n",
    "    5 : [hall0Pir, hall0door],\n",
    "    6 : cameraFront\n",
    "})\n",
    "\n",
    "ctx.AddSequence('masterChild_come', {\n",
    "    0 : corridor1Pir,\n",
    "    5 : [hall0Pir, hall0door],\n",
    "    9 : cameraFront\n",
    "})\n",
    "\n",
    "ctx.AddSequence('anomalie', {\n",
    "    0 : corridor1Pir,\n",
    "})\n",
    "\n",
    "ctx.AddSequence('anomalie', {\n",
    "    0 : hall0Pir,\n",
    "})\n",
    "\n",
    "#for i, n in zip(ctx.images_X, ctx.images_Y):\n",
    "#    display(n, i)"
   ]
  },
  {
   "cell_type": "code",
   "execution_count": null,
   "metadata": {
    "collapsed": true
   },
   "outputs": [],
   "source": []
  },
  {
   "cell_type": "code",
   "execution_count": 94,
   "metadata": {},
   "outputs": [
    {
     "data": {
      "text/plain": [
       "'### RBF SVM                        => OK 1.00 (0.00 sec)'"
      ]
     },
     "metadata": {},
     "output_type": "display_data"
    },
    {
     "data": {
      "text/plain": [
       "'### Decision Tree                  => OK 1.00 (0.00 sec)'"
      ]
     },
     "metadata": {},
     "output_type": "display_data"
    },
    {
     "data": {
      "text/plain": [
       "'### Random Forest                  => OK 1.00 (0.06 sec)'"
      ]
     },
     "metadata": {},
     "output_type": "display_data"
    },
    {
     "data": {
      "text/plain": [
       "'### Neural Net(Adam)               => OK 1.00 (1.09 sec)'"
      ]
     },
     "metadata": {},
     "output_type": "display_data"
    },
    {
     "data": {
      "text/plain": [
       "'### Neural Net(Adam, a0.1)         => OK 1.00 (1.29 sec)'"
      ]
     },
     "metadata": {},
     "output_type": "display_data"
    },
    {
     "data": {
      "text/plain": [
       "'### Neural Net(Adam, a0.01)        => OK 1.00 (0.93 sec)'"
      ]
     },
     "metadata": {},
     "output_type": "display_data"
    },
    {
     "data": {
      "text/plain": [
       "'### Naive Bayes                    => OK 1.00 (0.00 sec)'"
      ]
     },
     "metadata": {},
     "output_type": "display_data"
    },
    {
     "name": "stderr",
     "output_type": "stream",
     "text": [
      "C:\\Prog\\Anaconda\\lib\\site-packages\\sklearn\\neural_network\\multilayer_perceptron.py:564: ConvergenceWarning: Stochastic Optimizer: Maximum iterations (500) reached and the optimization hasn't converged yet.\n",
      "  % self.max_iter, ConvergenceWarning)\n"
     ]
    },
    {
     "data": {
      "text/plain": [
       "'### Neural Net(Sgd)                => OK 1.00 (1.14 sec)'"
      ]
     },
     "metadata": {},
     "output_type": "display_data"
    },
    {
     "data": {
      "text/plain": [
       "'### Nearest Neighbors              => 0.71 (0.00 sec)'"
      ]
     },
     "metadata": {},
     "output_type": "display_data"
    },
    {
     "data": {
      "text/plain": [
       "'### Gaussian Process               => 0.86 (0.46 sec)'"
      ]
     },
     "metadata": {},
     "output_type": "display_data"
    },
    {
     "data": {
      "text/plain": [
       "'### AdaBoost                       => 0.86 (0.24 sec)'"
      ]
     },
     "metadata": {},
     "output_type": "display_data"
    }
   ],
   "source": [
    "X = np.asarray(ctx.images_X).reshape(len(ctx.images_Y), 60)\n",
    "Y = np.asarray(ctx.images_Y)\n",
    "\n",
    "X_pred1 = [[1, 0, 0, 0, 0, 0],\n",
    " [0, 0, 0, 0, 0, 0],\n",
    " [0, 0, 0, 0, 0, 0],\n",
    " [0, 0, 0, 0, 0, 0],\n",
    " [0, 0, 0, 0, 0, 0],\n",
    " [0, 0, 0, 0, 0, 0],\n",
    " [0, 0, 0, 0, 0, 0],\n",
    " [0, 0, 0, 0, 0, 0],\n",
    " [0, 0, 0, 0, 0, 0],\n",
    " [0, 0, 0, 0, 0, 0]]\n",
    "#X_pred = np.asarray(images_X[0]).reshape(1, 60)\n",
    "\n",
    "for c in classifiers:\n",
    "\n",
    "    clf = classifiers[c]\n",
    "    start_time = timeit.default_timer()\n",
    "    clf.fit(X, Y)\n",
    "    elapsed = timeit.default_timer() - start_time\n",
    "    pred_Y = clf.predict(X)\n",
    "    selfscore = clf.score(X, Y)\n",
    "    matched = [i for i, j in zip(Y, pred_Y) if i != j]\n",
    "    if len(matched) != 0:\n",
    "        #display('### ' + c + ' => ' + ('%.2f' % selfscore).lstrip('0') + ' (' + elapsed + ' sec)')\n",
    "        display('### {:30} => {:.2f} ({:.2f} sec)'.format(c, selfscore, elapsed))\n",
    "        #display(len(matched))\n",
    "        #display(pred_Y)\n",
    "    else:\n",
    "        display('### {:30} => OK {:.2f} ({:.2f} sec)'.format(c, selfscore, elapsed))\n"
   ]
  },
  {
   "cell_type": "code",
   "execution_count": 82,
   "metadata": {
    "scrolled": true
   },
   "outputs": [
    {
     "data": {
      "text/plain": [
       "'0.86'"
      ]
     },
     "metadata": {},
     "output_type": "display_data"
    }
   ],
   "source": [
    "#X = StandardScaler().fit_transform(X)\n",
    "#X_train, X_test, y_train, y_test = train_test_split(X, y, test_size=.4)"
   ]
  },
  {
   "cell_type": "code",
   "execution_count": null,
   "metadata": {
    "collapsed": true
   },
   "outputs": [],
   "source": [
    "# from real : lila & sergey with child\n",
    "\"\"\"\n",
    "21/01 ? Camera\n",
    "21/01 ? Camera\n",
    "21/01 12:58:01\tHall(0) Door\t1\tOn\tDoor\n",
    "21/01 12:58:07\tHall(0) Ceiling\t1\tOn\tMotion\n",
    "21/01 12:58:24\tHall(0) Door\t1\tOn\tDoor\n",
    "21/01 12:59:32\tCorridor(1) Ceiling\t1\tOn\tMotion\n",
    "\"\"\"\n",
    "# from real : sergey from work\n",
    "\"\"\"\n",
    "18/01 ? Camera\n",
    "18/01 19:30:40\tHall(0) Door\t1\tOn\tDoor\n",
    "18/01 19:31:09\tHall(0) Ceiling\t1\tOn\tMotion\n",
    "18/01 19:32:05\tCorridor(1) Ceiling\t1\tOn\tMotion\n",
    "\"\"\"\n",
    "# from real : lilia with child\n",
    "\"\"\"\n",
    "18/01 19:01:53\tHall(0) Door\t1\tOn\tDoor\n",
    "18/01 19:02:40\tHall(0) Ceiling\t1\tOn\tMotion\n",
    "18/01 19:05:50\tHall(0) Door\t1\tOn\tDoor\n",
    "18/01 19:06:19\tHall(0) Door\t1\tOn\tDoor\n",
    "18/01 19:07:04\tHall(0) Door\t1\tOn\tDoor\n",
    "18/01 19:08:47\tCorridor(1) Ceiling\t1\tOn\tMotion\n",
    "\"\"\""
   ]
  }
 ],
 "metadata": {
  "kernelspec": {
   "display_name": "Python 3",
   "language": "python",
   "name": "python3"
  },
  "language_info": {
   "codemirror_mode": {
    "name": "ipython",
    "version": 3
   },
   "file_extension": ".py",
   "mimetype": "text/x-python",
   "name": "python",
   "nbconvert_exporter": "python",
   "pygments_lexer": "ipython3",
   "version": "3.6.3"
  }
 },
 "nbformat": 4,
 "nbformat_minor": 2
}
